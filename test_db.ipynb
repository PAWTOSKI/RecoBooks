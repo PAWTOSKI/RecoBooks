{
 "metadata": {
  "language_info": {
   "codemirror_mode": {
    "name": "ipython",
    "version": 3
   },
   "file_extension": ".py",
   "mimetype": "text/x-python",
   "name": "python",
   "nbconvert_exporter": "python",
   "pygments_lexer": "ipython3",
   "version": "3.6.9"
  },
  "orig_nbformat": 4,
  "kernelspec": {
   "name": "python3",
   "display_name": "Python 3.6.9 64-bit ('env': virtualenv)"
  },
  "interpreter": {
   "hash": "47db57e429c6b747a47f6f7f9f80f4d8bebda9c56fa9429c3d5d54106fba56e9"
  }
 },
 "nbformat": 4,
 "nbformat_minor": 2,
 "cells": [
  {
   "cell_type": "code",
   "execution_count": 26,
   "metadata": {},
   "outputs": [],
   "source": [
    "from sqlalchemy import create_engine  \n",
    "import json\n",
    "\n",
    "def getEngine():\n",
    "    print('Charger le fichier config d\\'engine de DB')\n",
    "    with open('config.json', 'r') as fichier:\n",
    "        data = json.load(fichier)\n",
    "\n",
    "    db_info_connect = data[\"connector\"]+\"://\"+data['user']+\":\"+data['pwd']+\"@\"+data['host']+':'+data['port']+'/'+data['bd']\n",
    "\n",
    "    engine = create_engine(db_info_connect, echo=True, future=True)\n",
    "    print('L\\'engine est pret')\n",
    "    return engine\n",
    "\n",
    "\n"
   ]
  },
  {
   "cell_type": "code",
   "execution_count": 29,
   "metadata": {},
   "outputs": [
    {
     "output_type": "stream",
     "name": "stdout",
     "text": [
      "Charger le fichier config d'engine de DB\nL'engine est pret\n"
     ]
    }
   ],
   "source": [
    "engine = getEngine()"
   ]
  },
  {
   "cell_type": "code",
   "execution_count": 32,
   "metadata": {},
   "outputs": [
    {
     "output_type": "stream",
     "name": "stdout",
     "text": [
      "<sqlalchemy.orm.scoping.scoped_session object at 0x7f9a28242278>\n"
     ]
    }
   ],
   "source": [
    "from sqlalchemy.orm import scoped_session, sessionmaker\n",
    "db_session = scoped_session(sessionmaker(autocommit=False,\n",
    "                                         autoflush=False,\n",
    "                                         bind=engine))\n",
    "print(db_session)"
   ]
  },
  {
   "cell_type": "code",
   "execution_count": null,
   "metadata": {},
   "outputs": [],
   "source": []
  }
 ]
}